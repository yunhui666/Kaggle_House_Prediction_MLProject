{
  "cells": [
    {
      "cell_type": "markdown",
      "metadata": {
        "id": "view-in-github",
        "colab_type": "text"
      },
      "source": [
        "<a href=\"https://colab.research.google.com/github/yunhui666/Kaggle_House_Prediction_MLProject/blob/main/Step5_Modeling_I.ipynb\" target=\"_parent\"><img src=\"https://colab.research.google.com/assets/colab-badge.svg\" alt=\"Open In Colab\"/></a>"
      ]
    },
    {
      "cell_type": "markdown",
      "metadata": {
        "id": "BRQp4owmI35S"
      },
      "source": [
        "<span id=\"prepare\"></span>\n",
        "# 1. Prepare Problem\n"
      ]
    },
    {
      "cell_type": "markdown",
      "metadata": {
        "id": "uObOPuV7I35U"
      },
      "source": [
        "## a) Load libraries\n"
      ]
    },
    {
      "cell_type": "code",
      "execution_count": null,
      "metadata": {
        "collapsed": true,
        "id": "ZxX2Aj1PI35V"
      },
      "outputs": [],
      "source": [
        "# NumPy for numerical computing\n",
        "import numpy as np\n",
        "\n",
        "# Pandas for DataFrames\n",
        "import pandas as pd\n",
        "pd.set_option('display.max_columns', 100)\n",
        "\n",
        "# Matplotlib for visualization\n",
        "from matplotlib import pyplot as plt\n",
        "# display plots in the notebook\n",
        "%matplotlib inline \n",
        "\n",
        "# Seaborn for easier visualization\n",
        "import seaborn as sns"
      ]
    },
    {
      "cell_type": "markdown",
      "metadata": {
        "id": "V5jJchtbI35W"
      },
      "source": [
        "### Load dataset"
      ]
    },
    {
      "cell_type": "code",
      "execution_count": null,
      "metadata": {
        "collapsed": true,
        "id": "50Fb58fpI35W"
      },
      "outputs": [],
      "source": [
        "# Load real estate data from CSV\n",
        "DF = pd.read_csv('data/clean_inputwithfeatures.csv')"
      ]
    },
    {
      "cell_type": "code",
      "execution_count": null,
      "metadata": {
        "id": "2yR0Qs6tI35X"
      },
      "outputs": [],
      "source": [
        "df = DF[DF.SalePrice.isnull() == False]"
      ]
    },
    {
      "cell_type": "code",
      "execution_count": null,
      "metadata": {
        "id": "_9yjW4NZI35X",
        "outputId": "56dff2e8-b1f4-4edb-f908-ff74e04433bf"
      },
      "outputs": [
        {
          "data": {
            "text/html": [
              "<div>\n",
              "<style scoped>\n",
              "    .dataframe tbody tr th:only-of-type {\n",
              "        vertical-align: middle;\n",
              "    }\n",
              "\n",
              "    .dataframe tbody tr th {\n",
              "        vertical-align: top;\n",
              "    }\n",
              "\n",
              "    .dataframe thead th {\n",
              "        text-align: right;\n",
              "    }\n",
              "</style>\n",
              "<table border=\"1\" class=\"dataframe\">\n",
              "  <thead>\n",
              "    <tr style=\"text-align: right;\">\n",
              "      <th></th>\n",
              "      <th>1stFlrSF</th>\n",
              "      <th>2ndFlrSF</th>\n",
              "      <th>3SsnPorch</th>\n",
              "      <th>BedroomAbvGr</th>\n",
              "      <th>BsmtFinSF1</th>\n",
              "      <th>BsmtFinSF2</th>\n",
              "      <th>BsmtFullBath</th>\n",
              "      <th>BsmtHalfBath</th>\n",
              "      <th>BsmtUnfSF</th>\n",
              "      <th>EnclosedPorch</th>\n",
              "      <th>Fireplaces</th>\n",
              "      <th>FullBath</th>\n",
              "      <th>GarageArea</th>\n",
              "      <th>GarageCars</th>\n",
              "      <th>GarageYrBlt</th>\n",
              "      <th>GrLivArea</th>\n",
              "      <th>HalfBath</th>\n",
              "      <th>Id</th>\n",
              "      <th>KitchenAbvGr</th>\n",
              "      <th>LotArea</th>\n",
              "      <th>LotFrontage</th>\n",
              "      <th>LowQualFinSF</th>\n",
              "      <th>MSSubClass</th>\n",
              "      <th>MasVnrArea</th>\n",
              "      <th>MiscVal</th>\n",
              "      <th>MoSold</th>\n",
              "      <th>OpenPorchSF</th>\n",
              "      <th>OverallCond</th>\n",
              "      <th>OverallQual</th>\n",
              "      <th>PoolArea</th>\n",
              "      <th>SalePrice</th>\n",
              "      <th>ScreenPorch</th>\n",
              "      <th>TotRmsAbvGrd</th>\n",
              "      <th>TotalBsmtSF</th>\n",
              "      <th>WoodDeckSF</th>\n",
              "      <th>YrSold</th>\n",
              "      <th>big_house</th>\n",
              "      <th>built_during_recession</th>\n",
              "      <th>sold_during_recession</th>\n",
              "      <th>property_age</th>\n",
              "      <th>property_remodel_age</th>\n",
              "      <th>Alley_Grvl</th>\n",
              "      <th>Alley_Missing</th>\n",
              "      <th>Alley_Pave</th>\n",
              "      <th>BldgType_1Fam</th>\n",
              "      <th>BldgType_2fmCon</th>\n",
              "      <th>BldgType_Duplex</th>\n",
              "      <th>BldgType_TownHouse</th>\n",
              "      <th>BsmtCond_Fa</th>\n",
              "      <th>BsmtCond_Gd</th>\n",
              "      <th>...</th>\n",
              "      <th>Neighborhood_Mitchel</th>\n",
              "      <th>Neighborhood_NAmes</th>\n",
              "      <th>Neighborhood_NPkVill</th>\n",
              "      <th>Neighborhood_NWAmes</th>\n",
              "      <th>Neighborhood_NoRidge</th>\n",
              "      <th>Neighborhood_NridgHt</th>\n",
              "      <th>Neighborhood_OldTown</th>\n",
              "      <th>Neighborhood_SWISU</th>\n",
              "      <th>Neighborhood_Sawyer</th>\n",
              "      <th>Neighborhood_SawyerW</th>\n",
              "      <th>Neighborhood_Somerst</th>\n",
              "      <th>Neighborhood_StoneBr</th>\n",
              "      <th>Neighborhood_Timber</th>\n",
              "      <th>Neighborhood_Veenker</th>\n",
              "      <th>PavedDrive_N</th>\n",
              "      <th>PavedDrive_P</th>\n",
              "      <th>PavedDrive_Y</th>\n",
              "      <th>PoolQC_Ex</th>\n",
              "      <th>PoolQC_Fa</th>\n",
              "      <th>PoolQC_Gd</th>\n",
              "      <th>PoolQC_Missing</th>\n",
              "      <th>RoofMatl_CompShg</th>\n",
              "      <th>RoofMatl_Other</th>\n",
              "      <th>RoofStyle_Flat</th>\n",
              "      <th>RoofStyle_Gable</th>\n",
              "      <th>RoofStyle_Gambrel</th>\n",
              "      <th>RoofStyle_Hip</th>\n",
              "      <th>RoofStyle_Mansard</th>\n",
              "      <th>RoofStyle_Shed</th>\n",
              "      <th>SaleCondition_Abnorml</th>\n",
              "      <th>SaleCondition_AdjLand</th>\n",
              "      <th>SaleCondition_Alloca</th>\n",
              "      <th>SaleCondition_Family</th>\n",
              "      <th>SaleCondition_Normal</th>\n",
              "      <th>SaleCondition_Partial</th>\n",
              "      <th>SaleType_COD</th>\n",
              "      <th>SaleType_CWD</th>\n",
              "      <th>SaleType_Con</th>\n",
              "      <th>SaleType_ConLD</th>\n",
              "      <th>SaleType_ConLI</th>\n",
              "      <th>SaleType_ConLw</th>\n",
              "      <th>SaleType_Missing</th>\n",
              "      <th>SaleType_New</th>\n",
              "      <th>SaleType_Oth</th>\n",
              "      <th>SaleType_WD</th>\n",
              "      <th>Street_Grvl</th>\n",
              "      <th>Street_Pave</th>\n",
              "      <th>Utilities_AllPub</th>\n",
              "      <th>Utilities_Missing</th>\n",
              "      <th>Utilities_NoSeWa</th>\n",
              "    </tr>\n",
              "  </thead>\n",
              "  <tbody>\n",
              "    <tr>\n",
              "      <th>0</th>\n",
              "      <td>856</td>\n",
              "      <td>854</td>\n",
              "      <td>0</td>\n",
              "      <td>3</td>\n",
              "      <td>706.0</td>\n",
              "      <td>0.0</td>\n",
              "      <td>1.0</td>\n",
              "      <td>0.0</td>\n",
              "      <td>150.0</td>\n",
              "      <td>0</td>\n",
              "      <td>0</td>\n",
              "      <td>2</td>\n",
              "      <td>548.0</td>\n",
              "      <td>2.0</td>\n",
              "      <td>2003.0</td>\n",
              "      <td>1710</td>\n",
              "      <td>1</td>\n",
              "      <td>1</td>\n",
              "      <td>1</td>\n",
              "      <td>8450</td>\n",
              "      <td>65.0</td>\n",
              "      <td>0</td>\n",
              "      <td>60</td>\n",
              "      <td>196.0</td>\n",
              "      <td>0</td>\n",
              "      <td>2</td>\n",
              "      <td>61</td>\n",
              "      <td>5</td>\n",
              "      <td>7</td>\n",
              "      <td>0</td>\n",
              "      <td>208500.0</td>\n",
              "      <td>0</td>\n",
              "      <td>8</td>\n",
              "      <td>856.0</td>\n",
              "      <td>0</td>\n",
              "      <td>2008</td>\n",
              "      <td>0</td>\n",
              "      <td>0</td>\n",
              "      <td>0</td>\n",
              "      <td>5</td>\n",
              "      <td>0</td>\n",
              "      <td>0</td>\n",
              "      <td>1</td>\n",
              "      <td>0</td>\n",
              "      <td>1</td>\n",
              "      <td>0</td>\n",
              "      <td>0</td>\n",
              "      <td>0</td>\n",
              "      <td>0</td>\n",
              "      <td>0</td>\n",
              "      <td>...</td>\n",
              "      <td>0</td>\n",
              "      <td>0</td>\n",
              "      <td>0</td>\n",
              "      <td>0</td>\n",
              "      <td>0</td>\n",
              "      <td>0</td>\n",
              "      <td>0</td>\n",
              "      <td>0</td>\n",
              "      <td>0</td>\n",
              "      <td>0</td>\n",
              "      <td>0</td>\n",
              "      <td>0</td>\n",
              "      <td>0</td>\n",
              "      <td>0</td>\n",
              "      <td>0</td>\n",
              "      <td>0</td>\n",
              "      <td>1</td>\n",
              "      <td>0</td>\n",
              "      <td>0</td>\n",
              "      <td>0</td>\n",
              "      <td>1</td>\n",
              "      <td>1</td>\n",
              "      <td>0</td>\n",
              "      <td>0</td>\n",
              "      <td>1</td>\n",
              "      <td>0</td>\n",
              "      <td>0</td>\n",
              "      <td>0</td>\n",
              "      <td>0</td>\n",
              "      <td>0</td>\n",
              "      <td>0</td>\n",
              "      <td>0</td>\n",
              "      <td>0</td>\n",
              "      <td>1</td>\n",
              "      <td>0</td>\n",
              "      <td>0</td>\n",
              "      <td>0</td>\n",
              "      <td>0</td>\n",
              "      <td>0</td>\n",
              "      <td>0</td>\n",
              "      <td>0</td>\n",
              "      <td>0</td>\n",
              "      <td>0</td>\n",
              "      <td>0</td>\n",
              "      <td>1</td>\n",
              "      <td>0</td>\n",
              "      <td>1</td>\n",
              "      <td>1</td>\n",
              "      <td>0</td>\n",
              "      <td>0</td>\n",
              "    </tr>\n",
              "    <tr>\n",
              "      <th>1</th>\n",
              "      <td>1262</td>\n",
              "      <td>0</td>\n",
              "      <td>0</td>\n",
              "      <td>3</td>\n",
              "      <td>978.0</td>\n",
              "      <td>0.0</td>\n",
              "      <td>0.0</td>\n",
              "      <td>1.0</td>\n",
              "      <td>284.0</td>\n",
              "      <td>0</td>\n",
              "      <td>1</td>\n",
              "      <td>2</td>\n",
              "      <td>460.0</td>\n",
              "      <td>2.0</td>\n",
              "      <td>1976.0</td>\n",
              "      <td>1262</td>\n",
              "      <td>0</td>\n",
              "      <td>2</td>\n",
              "      <td>1</td>\n",
              "      <td>9600</td>\n",
              "      <td>80.0</td>\n",
              "      <td>0</td>\n",
              "      <td>20</td>\n",
              "      <td>0.0</td>\n",
              "      <td>0</td>\n",
              "      <td>5</td>\n",
              "      <td>0</td>\n",
              "      <td>8</td>\n",
              "      <td>6</td>\n",
              "      <td>0</td>\n",
              "      <td>181500.0</td>\n",
              "      <td>0</td>\n",
              "      <td>6</td>\n",
              "      <td>1262.0</td>\n",
              "      <td>298</td>\n",
              "      <td>2007</td>\n",
              "      <td>0</td>\n",
              "      <td>0</td>\n",
              "      <td>0</td>\n",
              "      <td>31</td>\n",
              "      <td>0</td>\n",
              "      <td>0</td>\n",
              "      <td>1</td>\n",
              "      <td>0</td>\n",
              "      <td>1</td>\n",
              "      <td>0</td>\n",
              "      <td>0</td>\n",
              "      <td>0</td>\n",
              "      <td>0</td>\n",
              "      <td>0</td>\n",
              "      <td>...</td>\n",
              "      <td>0</td>\n",
              "      <td>0</td>\n",
              "      <td>0</td>\n",
              "      <td>0</td>\n",
              "      <td>0</td>\n",
              "      <td>0</td>\n",
              "      <td>0</td>\n",
              "      <td>0</td>\n",
              "      <td>0</td>\n",
              "      <td>0</td>\n",
              "      <td>0</td>\n",
              "      <td>0</td>\n",
              "      <td>0</td>\n",
              "      <td>1</td>\n",
              "      <td>0</td>\n",
              "      <td>0</td>\n",
              "      <td>1</td>\n",
              "      <td>0</td>\n",
              "      <td>0</td>\n",
              "      <td>0</td>\n",
              "      <td>1</td>\n",
              "      <td>1</td>\n",
              "      <td>0</td>\n",
              "      <td>0</td>\n",
              "      <td>1</td>\n",
              "      <td>0</td>\n",
              "      <td>0</td>\n",
              "      <td>0</td>\n",
              "      <td>0</td>\n",
              "      <td>0</td>\n",
              "      <td>0</td>\n",
              "      <td>0</td>\n",
              "      <td>0</td>\n",
              "      <td>1</td>\n",
              "      <td>0</td>\n",
              "      <td>0</td>\n",
              "      <td>0</td>\n",
              "      <td>0</td>\n",
              "      <td>0</td>\n",
              "      <td>0</td>\n",
              "      <td>0</td>\n",
              "      <td>0</td>\n",
              "      <td>0</td>\n",
              "      <td>0</td>\n",
              "      <td>1</td>\n",
              "      <td>0</td>\n",
              "      <td>1</td>\n",
              "      <td>1</td>\n",
              "      <td>0</td>\n",
              "      <td>0</td>\n",
              "    </tr>\n",
              "    <tr>\n",
              "      <th>2</th>\n",
              "      <td>920</td>\n",
              "      <td>866</td>\n",
              "      <td>0</td>\n",
              "      <td>3</td>\n",
              "      <td>486.0</td>\n",
              "      <td>0.0</td>\n",
              "      <td>1.0</td>\n",
              "      <td>0.0</td>\n",
              "      <td>434.0</td>\n",
              "      <td>0</td>\n",
              "      <td>1</td>\n",
              "      <td>2</td>\n",
              "      <td>608.0</td>\n",
              "      <td>2.0</td>\n",
              "      <td>2001.0</td>\n",
              "      <td>1786</td>\n",
              "      <td>1</td>\n",
              "      <td>3</td>\n",
              "      <td>1</td>\n",
              "      <td>11250</td>\n",
              "      <td>68.0</td>\n",
              "      <td>0</td>\n",
              "      <td>60</td>\n",
              "      <td>162.0</td>\n",
              "      <td>0</td>\n",
              "      <td>9</td>\n",
              "      <td>42</td>\n",
              "      <td>5</td>\n",
              "      <td>7</td>\n",
              "      <td>0</td>\n",
              "      <td>223500.0</td>\n",
              "      <td>0</td>\n",
              "      <td>6</td>\n",
              "      <td>920.0</td>\n",
              "      <td>0</td>\n",
              "      <td>2008</td>\n",
              "      <td>0</td>\n",
              "      <td>0</td>\n",
              "      <td>0</td>\n",
              "      <td>7</td>\n",
              "      <td>1</td>\n",
              "      <td>0</td>\n",
              "      <td>1</td>\n",
              "      <td>0</td>\n",
              "      <td>1</td>\n",
              "      <td>0</td>\n",
              "      <td>0</td>\n",
              "      <td>0</td>\n",
              "      <td>0</td>\n",
              "      <td>0</td>\n",
              "      <td>...</td>\n",
              "      <td>0</td>\n",
              "      <td>0</td>\n",
              "      <td>0</td>\n",
              "      <td>0</td>\n",
              "      <td>0</td>\n",
              "      <td>0</td>\n",
              "      <td>0</td>\n",
              "      <td>0</td>\n",
              "      <td>0</td>\n",
              "      <td>0</td>\n",
              "      <td>0</td>\n",
              "      <td>0</td>\n",
              "      <td>0</td>\n",
              "      <td>0</td>\n",
              "      <td>0</td>\n",
              "      <td>0</td>\n",
              "      <td>1</td>\n",
              "      <td>0</td>\n",
              "      <td>0</td>\n",
              "      <td>0</td>\n",
              "      <td>1</td>\n",
              "      <td>1</td>\n",
              "      <td>0</td>\n",
              "      <td>0</td>\n",
              "      <td>1</td>\n",
              "      <td>0</td>\n",
              "      <td>0</td>\n",
              "      <td>0</td>\n",
              "      <td>0</td>\n",
              "      <td>0</td>\n",
              "      <td>0</td>\n",
              "      <td>0</td>\n",
              "      <td>0</td>\n",
              "      <td>1</td>\n",
              "      <td>0</td>\n",
              "      <td>0</td>\n",
              "      <td>0</td>\n",
              "      <td>0</td>\n",
              "      <td>0</td>\n",
              "      <td>0</td>\n",
              "      <td>0</td>\n",
              "      <td>0</td>\n",
              "      <td>0</td>\n",
              "      <td>0</td>\n",
              "      <td>1</td>\n",
              "      <td>0</td>\n",
              "      <td>1</td>\n",
              "      <td>1</td>\n",
              "      <td>0</td>\n",
              "      <td>0</td>\n",
              "    </tr>\n",
              "    <tr>\n",
              "      <th>3</th>\n",
              "      <td>961</td>\n",
              "      <td>756</td>\n",
              "      <td>0</td>\n",
              "      <td>3</td>\n",
              "      <td>216.0</td>\n",
              "      <td>0.0</td>\n",
              "      <td>1.0</td>\n",
              "      <td>0.0</td>\n",
              "      <td>540.0</td>\n",
              "      <td>272</td>\n",
              "      <td>1</td>\n",
              "      <td>1</td>\n",
              "      <td>642.0</td>\n",
              "      <td>3.0</td>\n",
              "      <td>1998.0</td>\n",
              "      <td>1717</td>\n",
              "      <td>0</td>\n",
              "      <td>4</td>\n",
              "      <td>1</td>\n",
              "      <td>9550</td>\n",
              "      <td>60.0</td>\n",
              "      <td>0</td>\n",
              "      <td>70</td>\n",
              "      <td>0.0</td>\n",
              "      <td>0</td>\n",
              "      <td>2</td>\n",
              "      <td>35</td>\n",
              "      <td>5</td>\n",
              "      <td>7</td>\n",
              "      <td>0</td>\n",
              "      <td>140000.0</td>\n",
              "      <td>0</td>\n",
              "      <td>7</td>\n",
              "      <td>756.0</td>\n",
              "      <td>0</td>\n",
              "      <td>2006</td>\n",
              "      <td>0</td>\n",
              "      <td>0</td>\n",
              "      <td>0</td>\n",
              "      <td>91</td>\n",
              "      <td>55</td>\n",
              "      <td>0</td>\n",
              "      <td>1</td>\n",
              "      <td>0</td>\n",
              "      <td>1</td>\n",
              "      <td>0</td>\n",
              "      <td>0</td>\n",
              "      <td>0</td>\n",
              "      <td>0</td>\n",
              "      <td>1</td>\n",
              "      <td>...</td>\n",
              "      <td>0</td>\n",
              "      <td>0</td>\n",
              "      <td>0</td>\n",
              "      <td>0</td>\n",
              "      <td>0</td>\n",
              "      <td>0</td>\n",
              "      <td>0</td>\n",
              "      <td>0</td>\n",
              "      <td>0</td>\n",
              "      <td>0</td>\n",
              "      <td>0</td>\n",
              "      <td>0</td>\n",
              "      <td>0</td>\n",
              "      <td>0</td>\n",
              "      <td>0</td>\n",
              "      <td>0</td>\n",
              "      <td>1</td>\n",
              "      <td>0</td>\n",
              "      <td>0</td>\n",
              "      <td>0</td>\n",
              "      <td>1</td>\n",
              "      <td>1</td>\n",
              "      <td>0</td>\n",
              "      <td>0</td>\n",
              "      <td>1</td>\n",
              "      <td>0</td>\n",
              "      <td>0</td>\n",
              "      <td>0</td>\n",
              "      <td>0</td>\n",
              "      <td>1</td>\n",
              "      <td>0</td>\n",
              "      <td>0</td>\n",
              "      <td>0</td>\n",
              "      <td>0</td>\n",
              "      <td>0</td>\n",
              "      <td>0</td>\n",
              "      <td>0</td>\n",
              "      <td>0</td>\n",
              "      <td>0</td>\n",
              "      <td>0</td>\n",
              "      <td>0</td>\n",
              "      <td>0</td>\n",
              "      <td>0</td>\n",
              "      <td>0</td>\n",
              "      <td>1</td>\n",
              "      <td>0</td>\n",
              "      <td>1</td>\n",
              "      <td>1</td>\n",
              "      <td>0</td>\n",
              "      <td>0</td>\n",
              "    </tr>\n",
              "    <tr>\n",
              "      <th>4</th>\n",
              "      <td>1145</td>\n",
              "      <td>1053</td>\n",
              "      <td>0</td>\n",
              "      <td>4</td>\n",
              "      <td>655.0</td>\n",
              "      <td>0.0</td>\n",
              "      <td>1.0</td>\n",
              "      <td>0.0</td>\n",
              "      <td>490.0</td>\n",
              "      <td>0</td>\n",
              "      <td>1</td>\n",
              "      <td>2</td>\n",
              "      <td>836.0</td>\n",
              "      <td>3.0</td>\n",
              "      <td>2000.0</td>\n",
              "      <td>2198</td>\n",
              "      <td>1</td>\n",
              "      <td>5</td>\n",
              "      <td>1</td>\n",
              "      <td>14260</td>\n",
              "      <td>84.0</td>\n",
              "      <td>0</td>\n",
              "      <td>60</td>\n",
              "      <td>350.0</td>\n",
              "      <td>0</td>\n",
              "      <td>12</td>\n",
              "      <td>84</td>\n",
              "      <td>5</td>\n",
              "      <td>8</td>\n",
              "      <td>0</td>\n",
              "      <td>250000.0</td>\n",
              "      <td>0</td>\n",
              "      <td>9</td>\n",
              "      <td>1145.0</td>\n",
              "      <td>192</td>\n",
              "      <td>2008</td>\n",
              "      <td>0</td>\n",
              "      <td>0</td>\n",
              "      <td>0</td>\n",
              "      <td>8</td>\n",
              "      <td>0</td>\n",
              "      <td>0</td>\n",
              "      <td>1</td>\n",
              "      <td>0</td>\n",
              "      <td>1</td>\n",
              "      <td>0</td>\n",
              "      <td>0</td>\n",
              "      <td>0</td>\n",
              "      <td>0</td>\n",
              "      <td>0</td>\n",
              "      <td>...</td>\n",
              "      <td>0</td>\n",
              "      <td>0</td>\n",
              "      <td>0</td>\n",
              "      <td>0</td>\n",
              "      <td>1</td>\n",
              "      <td>0</td>\n",
              "      <td>0</td>\n",
              "      <td>0</td>\n",
              "      <td>0</td>\n",
              "      <td>0</td>\n",
              "      <td>0</td>\n",
              "      <td>0</td>\n",
              "      <td>0</td>\n",
              "      <td>0</td>\n",
              "      <td>0</td>\n",
              "      <td>0</td>\n",
              "      <td>1</td>\n",
              "      <td>0</td>\n",
              "      <td>0</td>\n",
              "      <td>0</td>\n",
              "      <td>1</td>\n",
              "      <td>1</td>\n",
              "      <td>0</td>\n",
              "      <td>0</td>\n",
              "      <td>1</td>\n",
              "      <td>0</td>\n",
              "      <td>0</td>\n",
              "      <td>0</td>\n",
              "      <td>0</td>\n",
              "      <td>0</td>\n",
              "      <td>0</td>\n",
              "      <td>0</td>\n",
              "      <td>0</td>\n",
              "      <td>1</td>\n",
              "      <td>0</td>\n",
              "      <td>0</td>\n",
              "      <td>0</td>\n",
              "      <td>0</td>\n",
              "      <td>0</td>\n",
              "      <td>0</td>\n",
              "      <td>0</td>\n",
              "      <td>0</td>\n",
              "      <td>0</td>\n",
              "      <td>0</td>\n",
              "      <td>1</td>\n",
              "      <td>0</td>\n",
              "      <td>1</td>\n",
              "      <td>1</td>\n",
              "      <td>0</td>\n",
              "      <td>0</td>\n",
              "    </tr>\n",
              "  </tbody>\n",
              "</table>\n",
              "<p>5 rows × 309 columns</p>\n",
              "</div>"
            ],
            "text/plain": [
              "   1stFlrSF  2ndFlrSF  3SsnPorch  BedroomAbvGr  BsmtFinSF1  BsmtFinSF2  \\\n",
              "0       856       854          0             3       706.0         0.0   \n",
              "1      1262         0          0             3       978.0         0.0   \n",
              "2       920       866          0             3       486.0         0.0   \n",
              "3       961       756          0             3       216.0         0.0   \n",
              "4      1145      1053          0             4       655.0         0.0   \n",
              "\n",
              "   BsmtFullBath  BsmtHalfBath  BsmtUnfSF  EnclosedPorch  Fireplaces  FullBath  \\\n",
              "0           1.0           0.0      150.0              0           0         2   \n",
              "1           0.0           1.0      284.0              0           1         2   \n",
              "2           1.0           0.0      434.0              0           1         2   \n",
              "3           1.0           0.0      540.0            272           1         1   \n",
              "4           1.0           0.0      490.0              0           1         2   \n",
              "\n",
              "   GarageArea  GarageCars  GarageYrBlt  GrLivArea  HalfBath  Id  KitchenAbvGr  \\\n",
              "0       548.0         2.0       2003.0       1710         1   1             1   \n",
              "1       460.0         2.0       1976.0       1262         0   2             1   \n",
              "2       608.0         2.0       2001.0       1786         1   3             1   \n",
              "3       642.0         3.0       1998.0       1717         0   4             1   \n",
              "4       836.0         3.0       2000.0       2198         1   5             1   \n",
              "\n",
              "   LotArea  LotFrontage  LowQualFinSF  MSSubClass  MasVnrArea  MiscVal  \\\n",
              "0     8450         65.0             0          60       196.0        0   \n",
              "1     9600         80.0             0          20         0.0        0   \n",
              "2    11250         68.0             0          60       162.0        0   \n",
              "3     9550         60.0             0          70         0.0        0   \n",
              "4    14260         84.0             0          60       350.0        0   \n",
              "\n",
              "   MoSold  OpenPorchSF  OverallCond  OverallQual  PoolArea  SalePrice  \\\n",
              "0       2           61            5            7         0   208500.0   \n",
              "1       5            0            8            6         0   181500.0   \n",
              "2       9           42            5            7         0   223500.0   \n",
              "3       2           35            5            7         0   140000.0   \n",
              "4      12           84            5            8         0   250000.0   \n",
              "\n",
              "   ScreenPorch  TotRmsAbvGrd  TotalBsmtSF  WoodDeckSF  YrSold  big_house  \\\n",
              "0            0             8        856.0           0    2008          0   \n",
              "1            0             6       1262.0         298    2007          0   \n",
              "2            0             6        920.0           0    2008          0   \n",
              "3            0             7        756.0           0    2006          0   \n",
              "4            0             9       1145.0         192    2008          0   \n",
              "\n",
              "   built_during_recession  sold_during_recession  property_age  \\\n",
              "0                       0                      0             5   \n",
              "1                       0                      0            31   \n",
              "2                       0                      0             7   \n",
              "3                       0                      0            91   \n",
              "4                       0                      0             8   \n",
              "\n",
              "   property_remodel_age  Alley_Grvl  Alley_Missing  Alley_Pave  BldgType_1Fam  \\\n",
              "0                     0           0              1           0              1   \n",
              "1                     0           0              1           0              1   \n",
              "2                     1           0              1           0              1   \n",
              "3                    55           0              1           0              1   \n",
              "4                     0           0              1           0              1   \n",
              "\n",
              "   BldgType_2fmCon  BldgType_Duplex  BldgType_TownHouse  BsmtCond_Fa  \\\n",
              "0                0                0                   0            0   \n",
              "1                0                0                   0            0   \n",
              "2                0                0                   0            0   \n",
              "3                0                0                   0            0   \n",
              "4                0                0                   0            0   \n",
              "\n",
              "   BsmtCond_Gd  ...  Neighborhood_Mitchel  Neighborhood_NAmes  \\\n",
              "0            0  ...                     0                   0   \n",
              "1            0  ...                     0                   0   \n",
              "2            0  ...                     0                   0   \n",
              "3            1  ...                     0                   0   \n",
              "4            0  ...                     0                   0   \n",
              "\n",
              "   Neighborhood_NPkVill  Neighborhood_NWAmes  Neighborhood_NoRidge  \\\n",
              "0                     0                    0                     0   \n",
              "1                     0                    0                     0   \n",
              "2                     0                    0                     0   \n",
              "3                     0                    0                     0   \n",
              "4                     0                    0                     1   \n",
              "\n",
              "   Neighborhood_NridgHt  Neighborhood_OldTown  Neighborhood_SWISU  \\\n",
              "0                     0                     0                   0   \n",
              "1                     0                     0                   0   \n",
              "2                     0                     0                   0   \n",
              "3                     0                     0                   0   \n",
              "4                     0                     0                   0   \n",
              "\n",
              "   Neighborhood_Sawyer  Neighborhood_SawyerW  Neighborhood_Somerst  \\\n",
              "0                    0                     0                     0   \n",
              "1                    0                     0                     0   \n",
              "2                    0                     0                     0   \n",
              "3                    0                     0                     0   \n",
              "4                    0                     0                     0   \n",
              "\n",
              "   Neighborhood_StoneBr  Neighborhood_Timber  Neighborhood_Veenker  \\\n",
              "0                     0                    0                     0   \n",
              "1                     0                    0                     1   \n",
              "2                     0                    0                     0   \n",
              "3                     0                    0                     0   \n",
              "4                     0                    0                     0   \n",
              "\n",
              "   PavedDrive_N  PavedDrive_P  PavedDrive_Y  PoolQC_Ex  PoolQC_Fa  PoolQC_Gd  \\\n",
              "0             0             0             1          0          0          0   \n",
              "1             0             0             1          0          0          0   \n",
              "2             0             0             1          0          0          0   \n",
              "3             0             0             1          0          0          0   \n",
              "4             0             0             1          0          0          0   \n",
              "\n",
              "   PoolQC_Missing  RoofMatl_CompShg  RoofMatl_Other  RoofStyle_Flat  \\\n",
              "0               1                 1               0               0   \n",
              "1               1                 1               0               0   \n",
              "2               1                 1               0               0   \n",
              "3               1                 1               0               0   \n",
              "4               1                 1               0               0   \n",
              "\n",
              "   RoofStyle_Gable  RoofStyle_Gambrel  RoofStyle_Hip  RoofStyle_Mansard  \\\n",
              "0                1                  0              0                  0   \n",
              "1                1                  0              0                  0   \n",
              "2                1                  0              0                  0   \n",
              "3                1                  0              0                  0   \n",
              "4                1                  0              0                  0   \n",
              "\n",
              "   RoofStyle_Shed  SaleCondition_Abnorml  SaleCondition_AdjLand  \\\n",
              "0               0                      0                      0   \n",
              "1               0                      0                      0   \n",
              "2               0                      0                      0   \n",
              "3               0                      1                      0   \n",
              "4               0                      0                      0   \n",
              "\n",
              "   SaleCondition_Alloca  SaleCondition_Family  SaleCondition_Normal  \\\n",
              "0                     0                     0                     1   \n",
              "1                     0                     0                     1   \n",
              "2                     0                     0                     1   \n",
              "3                     0                     0                     0   \n",
              "4                     0                     0                     1   \n",
              "\n",
              "   SaleCondition_Partial  SaleType_COD  SaleType_CWD  SaleType_Con  \\\n",
              "0                      0             0             0             0   \n",
              "1                      0             0             0             0   \n",
              "2                      0             0             0             0   \n",
              "3                      0             0             0             0   \n",
              "4                      0             0             0             0   \n",
              "\n",
              "   SaleType_ConLD  SaleType_ConLI  SaleType_ConLw  SaleType_Missing  \\\n",
              "0               0               0               0                 0   \n",
              "1               0               0               0                 0   \n",
              "2               0               0               0                 0   \n",
              "3               0               0               0                 0   \n",
              "4               0               0               0                 0   \n",
              "\n",
              "   SaleType_New  SaleType_Oth  SaleType_WD  Street_Grvl  Street_Pave  \\\n",
              "0             0             0            1            0            1   \n",
              "1             0             0            1            0            1   \n",
              "2             0             0            1            0            1   \n",
              "3             0             0            1            0            1   \n",
              "4             0             0            1            0            1   \n",
              "\n",
              "   Utilities_AllPub  Utilities_Missing  Utilities_NoSeWa  \n",
              "0                 1                  0                 0  \n",
              "1                 1                  0                 0  \n",
              "2                 1                  0                 0  \n",
              "3                 1                  0                 0  \n",
              "4                 1                  0                 0  \n",
              "\n",
              "[5 rows x 309 columns]"
            ]
          },
          "execution_count": 4,
          "metadata": {},
          "output_type": "execute_result"
        }
      ],
      "source": [
        "df.head()"
      ]
    },
    {
      "cell_type": "markdown",
      "metadata": {
        "id": "hxwUTAYbI35Y"
      },
      "source": [
        "### 1. Linear Regression"
      ]
    },
    {
      "cell_type": "code",
      "execution_count": null,
      "metadata": {
        "collapsed": true,
        "id": "EAMa42ipI35Y",
        "outputId": "8a35f2c9-fbd2-4a02-c1b0-66666d155f68"
      },
      "outputs": [
        {
          "data": {
            "text/plain": [
              "<matplotlib.axes._subplots.AxesSubplot at 0x10f785a20>"
            ]
          },
          "execution_count": 5,
          "metadata": {},
          "output_type": "execute_result"
        },
        {
          "data": {
            "image/png": "[encoded data removed]",
            "text/plain": [
              "<matplotlib.figure.Figure at 0x10f20d5c0>"
            ]
          },
          "metadata": {},
          "output_type": "display_data"
        }
      ],
      "source": [
        "# visualize the relationship between the features and the response using scatterplots\n",
        "fig, axs = plt.subplots(1, 3, sharey=True)\n",
        "df.plot(kind='scatter', x='GrLivArea', y='SalePrice', ax=axs[0], figsize=(16, 8))\n",
        "df.plot(kind='scatter', x='property_age', y='SalePrice', ax=axs[1])\n",
        "df.plot(kind='scatter', x='YrSold', y='SalePrice', ax=axs[2])"
      ]
    },
    {
      "cell_type": "code",
      "execution_count": null,
      "metadata": {
        "id": "qRvyS_6CI35Z",
        "outputId": "218d404a-60dc-4df7-81ac-8e49aa95ae50"
      },
      "outputs": [
        {
          "data": {
            "text/plain": [
              "Intercept    27982.224535\n",
              "GrLivArea      100.279739\n",
              "dtype: float64"
            ]
          },
          "execution_count": 6,
          "metadata": {},
          "output_type": "execute_result"
        }
      ],
      "source": [
        "# this is the standard import if you're using \"formula notation\" (similar to R)\n",
        "import statsmodels.formula.api as smf\n",
        "\n",
        "# create a fitted model in one line\n",
        "lm = smf.ols(formula='SalePrice ~ GrLivArea', data=df).fit()\n",
        "\n",
        "# print the coefficients\n",
        "lm.params"
      ]
    },
    {
      "cell_type": "markdown",
      "metadata": {
        "id": "018lQMQQI35Z"
      },
      "source": [
        "### Simple Linear Regression\n",
        "\n",
        "Simple linear regression is an approach for predicting a **quantitative response** using a **single feature** (or \"predictor\" or \"input variable\"). It takes the following form:\n",
        "\n",
        "$y = \\beta_0 + \\beta_1x$\n",
        "\n",
        "What does each term represent?\n",
        "- $y$ is the response\n",
        "- $x$ is the feature\n",
        "- $\\beta_0$ is the intercept\n",
        "- $\\beta_1$ is the coefficient for x"
      ]
    },
    {
      "cell_type": "code",
      "execution_count": null,
      "metadata": {
        "id": "4kmpYk9bI35a",
        "outputId": "d885ec45-2110-4ae7-d242-da40d86f929e"
      },
      "outputs": [
        {
          "data": {
            "text/html": [
              "<div>\n",
              "<style scoped>\n",
              "    .dataframe tbody tr th:only-of-type {\n",
              "        vertical-align: middle;\n",
              "    }\n",
              "\n",
              "    .dataframe tbody tr th {\n",
              "        vertical-align: top;\n",
              "    }\n",
              "\n",
              "    .dataframe thead th {\n",
              "        text-align: right;\n",
              "    }\n",
              "</style>\n",
              "<table border=\"1\" class=\"dataframe\">\n",
              "  <thead>\n",
              "    <tr style=\"text-align: right;\">\n",
              "      <th></th>\n",
              "      <th>GrLivArea</th>\n",
              "    </tr>\n",
              "  </thead>\n",
              "  <tbody>\n",
              "    <tr>\n",
              "      <th>0</th>\n",
              "      <td>334</td>\n",
              "    </tr>\n",
              "    <tr>\n",
              "      <th>1</th>\n",
              "      <td>5642</td>\n",
              "    </tr>\n",
              "  </tbody>\n",
              "</table>\n",
              "</div>"
            ],
            "text/plain": [
              "   GrLivArea\n",
              "0        334\n",
              "1       5642"
            ]
          },
          "execution_count": 7,
          "metadata": {},
          "output_type": "execute_result"
        }
      ],
      "source": [
        "# create a DataFrame with the minimum and maximum values of GrLivArea\n",
        "X_new = pd.DataFrame({'GrLivArea': [df.GrLivArea.min(), df.GrLivArea.max()]})\n",
        "X_new.head()"
      ]
    },
    {
      "cell_type": "code",
      "execution_count": null,
      "metadata": {
        "id": "DAUSQ4k_I35a",
        "outputId": "ef763687-913e-4b8a-ddef-fdc224bd69e9"
      },
      "outputs": [
        {
          "data": {
            "text/plain": [
              "0     61475.657365\n",
              "1    593760.512048\n",
              "dtype: float64"
            ]
          },
          "execution_count": 8,
          "metadata": {},
          "output_type": "execute_result"
        }
      ],
      "source": [
        "# make predictions for those x values and store them\n",
        "preds = lm.predict(X_new)\n",
        "preds"
      ]
    },
    {
      "cell_type": "code",
      "execution_count": null,
      "metadata": {
        "id": "Qg3qL6s0I35a",
        "outputId": "74b25713-c424-476d-a790-81f8a02d7b84"
      },
      "outputs": [
        {
          "data": {
            "text/plain": [
              "[<matplotlib.lines.Line2D at 0x10f1fbcc0>]"
            ]
          },
          "execution_count": 9,
          "metadata": {},
          "output_type": "execute_result"
        },
        {
          "data": {
            "image/png": "[encoded data removed]",
            "text/plain": [
              "<matplotlib.figure.Figure at 0x1a1b46b6d8>"
            ]
          },
          "metadata": {},
          "output_type": "display_data"
        }
      ],
      "source": [
        "# first, plot the observed data\n",
        "df.plot(kind='scatter', x='GrLivArea', y='SalePrice')\n",
        "\n",
        "# then, plot the least squares line\n",
        "plt.plot(X_new, preds, c='red', linewidth=3)"
      ]
    },
    {
      "cell_type": "code",
      "execution_count": null,
      "metadata": {
        "id": "Lbp6sKKMI35b",
        "outputId": "098ecad6-272e-4e7e-c86f-7e154dcc0a2c"
      },
      "outputs": [
        {
          "data": {
            "text/plain": [
              "0.4760925070590861"
            ]
          },
          "execution_count": 10,
          "metadata": {},
          "output_type": "execute_result"
        }
      ],
      "source": [
        "# print the R-squared value for the model\n",
        "lm.rsquared"
      ]
    },
    {
      "cell_type": "markdown",
      "metadata": {
        "id": "irTfxt0jI35b"
      },
      "source": [
        "### Multiple Linear Regression\n",
        "\n",
        "Simple linear regression can easily be extended to include multiple features. This is called **multiple linear regression**:\n",
        "\n",
        "$y = \\beta_0 + \\beta_1x_1 + ... + \\beta_nx_n$\n",
        "\n",
        "Each $x$ represents a different feature, and each feature has its own coefficient"
      ]
    },
    {
      "cell_type": "markdown",
      "metadata": {
        "id": "esqJvdkPI35b"
      },
      "source": [
        "### Can be Used for feature engineering (selection)"
      ]
    },
    {
      "cell_type": "code",
      "execution_count": null,
      "metadata": {
        "id": "OpmVNsZSI35b",
        "outputId": "c18dd7f8-a4a0-4f4c-e7c7-3aebd52987c8"
      },
      "outputs": [
        {
          "data": {
            "text/plain": [
              "Intercept      -888345.469493\n",
              "GrLivArea           55.618164\n",
              "property_age      -498.927498\n",
              "OverallQual      24966.945577\n",
              "YrSold             423.348952\n",
              "dtype: float64"
            ]
          },
          "execution_count": 11,
          "metadata": {},
          "output_type": "execute_result"
        }
      ],
      "source": [
        "# this is the standard import if you're using \"formula notation\" (similar to R)\n",
        "import statsmodels.formula.api as smf\n",
        "\n",
        "# create a fitted model in one line\n",
        "lm = smf.ols(formula='SalePrice ~ GrLivArea + property_age + OverallQual + YrSold', data=df).fit()\n",
        "\n",
        "# print the coefficients\n",
        "lm.params"
      ]
    },
    {
      "cell_type": "code",
      "execution_count": null,
      "metadata": {
        "id": "T1ybO-uiI35c",
        "outputId": "0a9caae2-d040-4404-e131-08aa6cd973a7"
      },
      "outputs": [
        {
          "data": {
            "text/html": [
              "<table class=\"simpletable\">\n",
              "<caption>OLS Regression Results</caption>\n",
              "<tr>\n",
              "  <th>Dep. Variable:</th>        <td>SalePrice</td>    <th>  R-squared:         </th> <td>   0.742</td> \n",
              "</tr>\n",
              "<tr>\n",
              "  <th>Model:</th>                   <td>OLS</td>       <th>  Adj. R-squared:    </th> <td>   0.741</td> \n",
              "</tr>\n",
              "<tr>\n",
              "  <th>Method:</th>             <td>Least Squares</td>  <th>  F-statistic:       </th> <td>   1043.</td> \n",
              "</tr>\n",
              "<tr>\n",
              "  <th>Date:</th>             <td>Sat, 18 Jul 2020</td> <th>  Prob (F-statistic):</th>  <td>  0.00</td>  \n",
              "</tr>\n",
              "<tr>\n",
              "  <th>Time:</th>                 <td>23:11:02</td>     <th>  Log-Likelihood:    </th> <td> -17396.</td> \n",
              "</tr>\n",
              "<tr>\n",
              "  <th>No. Observations:</th>      <td>  1455</td>      <th>  AIC:               </th> <td>3.480e+04</td>\n",
              "</tr>\n",
              "<tr>\n",
              "  <th>Df Residuals:</th>          <td>  1450</td>      <th>  BIC:               </th> <td>3.483e+04</td>\n",
              "</tr>\n",
              "<tr>\n",
              "  <th>Df Model:</th>              <td>     4</td>      <th>                     </th>     <td> </td>    \n",
              "</tr>\n",
              "<tr>\n",
              "  <th>Covariance Type:</th>      <td>nonrobust</td>    <th>                     </th>     <td> </td>    \n",
              "</tr>\n",
              "</table>\n",
              "<table class=\"simpletable\">\n",
              "<tr>\n",
              "        <td></td>          <th>coef</th>     <th>std err</th>      <th>t</th>      <th>P>|t|</th>  <th>[0.025</th>    <th>0.975]</th>  \n",
              "</tr>\n",
              "<tr>\n",
              "  <th>Intercept</th>    <td>-8.883e+05</td> <td>  1.5e+06</td> <td>   -0.592</td> <td> 0.554</td> <td>-3.83e+06</td> <td> 2.06e+06</td>\n",
              "</tr>\n",
              "<tr>\n",
              "  <th>GrLivArea</th>    <td>   55.6182</td> <td>    2.437</td> <td>   22.823</td> <td> 0.000</td> <td>   50.838</td> <td>   60.398</td>\n",
              "</tr>\n",
              "<tr>\n",
              "  <th>property_age</th> <td> -498.9275</td> <td>   40.843</td> <td>  -12.216</td> <td> 0.000</td> <td> -579.045</td> <td> -418.810</td>\n",
              "</tr>\n",
              "<tr>\n",
              "  <th>OverallQual</th>  <td> 2.497e+04</td> <td> 1086.301</td> <td>   22.983</td> <td> 0.000</td> <td> 2.28e+04</td> <td> 2.71e+04</td>\n",
              "</tr>\n",
              "<tr>\n",
              "  <th>YrSold</th>       <td>  423.3490</td> <td>  747.435</td> <td>    0.566</td> <td> 0.571</td> <td>-1042.821</td> <td> 1889.519</td>\n",
              "</tr>\n",
              "</table>\n",
              "<table class=\"simpletable\">\n",
              "<tr>\n",
              "  <th>Omnibus:</th>       <td>284.198</td> <th>  Durbin-Watson:     </th> <td>   2.030</td>\n",
              "</tr>\n",
              "<tr>\n",
              "  <th>Prob(Omnibus):</th> <td> 0.000</td>  <th>  Jarque-Bera (JB):  </th> <td>7720.305</td>\n",
              "</tr>\n",
              "<tr>\n",
              "  <th>Skew:</th>          <td> 0.056</td>  <th>  Prob(JB):          </th> <td>    0.00</td>\n",
              "</tr>\n",
              "<tr>\n",
              "  <th>Kurtosis:</th>      <td>14.284</td>  <th>  Cond. No.          </th> <td>3.84e+06</td>\n",
              "</tr>\n",
              "</table><br/><br/>Warnings:<br/>[1] Standard Errors assume that the covariance matrix of the errors is correctly specified.<br/>[2] The condition number is large, 3.84e+06. This might indicate that there are<br/>strong multicollinearity or other numerical problems."
            ],
            "text/plain": [
              "<class 'statsmodels.iolib.summary.Summary'>\n",
              "\"\"\"\n",
              "                            OLS Regression Results                            \n",
              "==============================================================================\n",
              "Dep. Variable:              SalePrice   R-squared:                       0.742\n",
              "Model:                            OLS   Adj. R-squared:                  0.741\n",
              "Method:                 Least Squares   F-statistic:                     1043.\n",
              "Date:                Sat, 18 Jul 2020   Prob (F-statistic):               0.00\n",
              "Time:                        23:11:02   Log-Likelihood:                -17396.\n",
              "No. Observations:                1455   AIC:                         3.480e+04\n",
              "Df Residuals:                    1450   BIC:                         3.483e+04\n",
              "Df Model:                           4                                         \n",
              "Covariance Type:            nonrobust                                         \n",
              "================================================================================\n",
              "                   coef    std err          t      P>|t|      [0.025      0.975]\n",
              "--------------------------------------------------------------------------------\n",
              "Intercept    -8.883e+05    1.5e+06     -0.592      0.554   -3.83e+06    2.06e+06\n",
              "GrLivArea       55.6182      2.437     22.823      0.000      50.838      60.398\n",
              "property_age  -498.9275     40.843    -12.216      0.000    -579.045    -418.810\n",
              "OverallQual   2.497e+04   1086.301     22.983      0.000    2.28e+04    2.71e+04\n",
              "YrSold         423.3490    747.435      0.566      0.571   -1042.821    1889.519\n",
              "==============================================================================\n",
              "Omnibus:                      284.198   Durbin-Watson:                   2.030\n",
              "Prob(Omnibus):                  0.000   Jarque-Bera (JB):             7720.305\n",
              "Skew:                           0.056   Prob(JB):                         0.00\n",
              "Kurtosis:                      14.284   Cond. No.                     3.84e+06\n",
              "==============================================================================\n",
              "\n",
              "Warnings:\n",
              "[1] Standard Errors assume that the covariance matrix of the errors is correctly specified.\n",
              "[2] The condition number is large, 3.84e+06. This might indicate that there are\n",
              "strong multicollinearity or other numerical problems.\n",
              "\"\"\""
            ]
          },
          "execution_count": 12,
          "metadata": {},
          "output_type": "execute_result"
        }
      ],
      "source": [
        "# print a summary of the fitted model\n",
        "lm.summary()"
      ]
    },
    {
      "cell_type": "markdown",
      "metadata": {
        "id": "5foFbdO4I35c"
      },
      "source": [
        "### Multiple Linear Regression in scikit-learn"
      ]
    },
    {
      "cell_type": "code",
      "execution_count": null,
      "metadata": {
        "id": "qWUP9uGEI35c",
        "outputId": "969cfe3e-08f0-4cdb-d778-39dd9179f71b"
      },
      "outputs": [
        {
          "data": {
            "text/plain": [
              "LinearRegression(copy_X=True, fit_intercept=True, n_jobs=1, normalize=False)"
            ]
          },
          "execution_count": 13,
          "metadata": {},
          "output_type": "execute_result"
        }
      ],
      "source": [
        "# follow the usual sklearn pattern: import, instantiate, fit\n",
        "from sklearn.linear_model import LinearRegression \n",
        "lm = LinearRegression()\n",
        "\n",
        "# create X and y\n",
        "feature_cols = ['GrLivArea','property_age','YrSold','OverallQual']\n",
        "X = df[feature_cols]\n",
        "y = df.SalePrice\n",
        "\n",
        "#fit the model\n",
        "lm.fit(X, y)"
      ]
    },
    {
      "cell_type": "code",
      "execution_count": null,
      "metadata": {
        "id": "nb8r5RrdI35c",
        "outputId": "a3a22cf1-111f-4277-eb0e-35975e22b73b"
      },
      "outputs": [
        {
          "name": "stdout",
          "output_type": "stream",
          "text": [
            "-888345.4694930012\n",
            "[   55.61816429  -498.92749845   423.34895208 24966.94557685]\n"
          ]
        }
      ],
      "source": [
        "# Print intercept and coefficient\n",
        "print( lm.intercept_ )\n",
        "print( lm.coef_ )"
      ]
    },
    {
      "cell_type": "code",
      "execution_count": null,
      "metadata": {
        "id": "0pwA89ZpI35d",
        "outputId": "74e30518-1744-4341-e2ab-4f2200707c2f"
      },
      "outputs": [
        {
          "name": "stdout",
          "output_type": "stream",
          "text": [
            " y = -888345.4694930012 + ( x1 * 55.618164288436475 ) + ( x2 * -498.927498450231 ) + ( x3 * 423.3489520791834 ) + ( x4 * 24966.945576853603 )\n"
          ]
        }
      ],
      "source": [
        "# check that the coeffients are the expected ones.\n",
        "m = lm.coef_[0]\n",
        "m2 = lm.coef_[1]\n",
        "m3 = lm.coef_[2]\n",
        "m4 = lm.coef_[3]\n",
        "\n",
        "b = lm.intercept_\n",
        "print(' y = {1} + ( x1 * {0} ) + ( x2 * {2} ) + ( x3 * {3} ) + ( x4 * {4} )'.format(m, b, m2, m3, m4))"
      ]
    },
    {
      "cell_type": "markdown",
      "metadata": {
        "id": "NEQGrCvmI35d"
      },
      "source": [
        "### Unsupervised Learning : K-Means"
      ]
    },
    {
      "cell_type": "code",
      "execution_count": null,
      "metadata": {
        "id": "rs3Cd1ERI35e"
      },
      "outputs": [],
      "source": [
        "from sklearn.cluster import KMeans\n",
        "from sklearn.datasets import make_blobs"
      ]
    },
    {
      "cell_type": "code",
      "execution_count": null,
      "metadata": {
        "id": "_7M-Wn9WI35e",
        "outputId": "be1186fa-2b5f-400d-bb57-a64bcffeb890"
      },
      "outputs": [
        {
          "name": "stderr",
          "output_type": "stream",
          "text": [
            "/Users/jiangyunzhang/anaconda3/lib/python3.6/site-packages/ipykernel_launcher.py:1: FutureWarning: Method .as_matrix will be removed in a future version. Use .values instead.\n",
            "  \"\"\"Entry point for launching an IPython kernel.\n"
          ]
        }
      ],
      "source": [
        "X = (df[['GrLivArea','property_age']] - df[['GrLivArea','property_age']].mean())/df[['GrLivArea','property_age']].std()\n"
      ]
    },
    {
      "cell_type": "code",
      "execution_count": null,
      "metadata": {
        "id": "_0of6TndI35e",
        "outputId": "25f2484d-f13b-4eef-8696-4cba9c701041"
      },
      "outputs": [
        {
          "name": "stderr",
          "output_type": "stream",
          "text": [
            "/Users/jiangyunzhang/anaconda3/lib/python3.6/site-packages/ipykernel_launcher.py:1: FutureWarning: Method .as_matrix will be removed in a future version. Use .values instead.\n",
            "  \"\"\"Entry point for launching an IPython kernel.\n"
          ]
        }
      ],
      "source": [
        "X = X.as_matrix()"
      ]
    },
    {
      "cell_type": "code",
      "execution_count": null,
      "metadata": {
        "id": "CP3WdbSaI35e",
        "outputId": "2232780f-2b2c-42a7-9539-1cf42e2e89cb"
      },
      "outputs": [
        {
          "data": {
            "text/plain": [
              "(1455, 2)"
            ]
          },
          "execution_count": 41,
          "metadata": {},
          "output_type": "execute_result"
        }
      ],
      "source": [
        "X.shape"
      ]
    },
    {
      "cell_type": "code",
      "execution_count": null,
      "metadata": {
        "id": "Cm3mUn7sI35f"
      },
      "outputs": [],
      "source": [
        "km = KMeans(\n",
        "    n_clusters=3, init='random',\n",
        "    n_init=10, max_iter=300, \n",
        "    tol=1e-04, random_state=1234\n",
        ")\n",
        "y_km = km.fit_predict(X)"
      ]
    },
    {
      "cell_type": "code",
      "execution_count": null,
      "metadata": {
        "id": "Twx21kVWI35f",
        "outputId": "6c22cf92-b9f5-4e83-a213-0f76618b7968"
      },
      "outputs": [
        {
          "data": {
            "image/png": "[encoded data removed]",
            "text/plain": [
              "<matplotlib.figure.Figure at 0x1a1cf60b70>"
            ]
          },
          "metadata": {},
          "output_type": "display_data"
        }
      ],
      "source": [
        "# plot the 3 clusters\n",
        "plt.scatter(\n",
        "    X[y_km == 0, 0], X[y_km == 0, 1],\n",
        "    s=50, c='lightgreen',\n",
        "    marker='s', edgecolor='black',\n",
        "    label='cluster 1'\n",
        ")\n",
        "\n",
        "plt.scatter(\n",
        "    X[y_km == 1, 0], X[y_km == 1, 1],\n",
        "    s=50, c='orange',\n",
        "    marker='o', edgecolor='black',\n",
        "    label='cluster 2'\n",
        ")\n",
        "\n",
        "plt.scatter(\n",
        "    X[y_km == 2, 0], X[y_km == 2, 1],\n",
        "    s=50, c='lightblue',\n",
        "    marker='v', edgecolor='black',\n",
        "    label='cluster 3'\n",
        ")\n",
        "\n",
        "# plot the centroids\n",
        "plt.scatter(\n",
        "    km.cluster_centers_[:, 0], km.cluster_centers_[:, 1],\n",
        "    s=250, marker='*',\n",
        "    c='red', edgecolor='black',\n",
        "    label='centroids'\n",
        ")\n",
        "plt.legend(scatterpoints=1)\n",
        "plt.grid()\n",
        "plt.show()"
      ]
    },
    {
      "cell_type": "code",
      "execution_count": null,
      "metadata": {
        "id": "nsN5HeLbI35f"
      },
      "outputs": [],
      "source": []
    }
  ],
  "metadata": {
    "kernelspec": {
      "display_name": "Python 3",
      "language": "python",
      "name": "python3"
    },
    "language_info": {
      "codemirror_mode": {
        "name": "ipython",
        "version": 3
      },
      "file_extension": ".py",
      "mimetype": "text/x-python",
      "name": "python",
      "nbconvert_exporter": "python",
      "pygments_lexer": "ipython3",
      "version": "3.8.8"
    },
    "colab": {
      "provenance": [],
      "include_colab_link": true
    }
  },
  "nbformat": 4,
  "nbformat_minor": 0
}