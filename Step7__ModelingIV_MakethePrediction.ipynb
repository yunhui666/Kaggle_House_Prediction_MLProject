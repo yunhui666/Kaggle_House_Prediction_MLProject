{
  "cells": [
    {
      "cell_type": "markdown",
      "metadata": {
        "id": "view-in-github",
        "colab_type": "text"
      },
      "source": [
        "<a href=\"https://colab.research.google.com/github/yunhui666/Kaggle_House_Prediction_MLProject/blob/main/Step7__ModelingIV_MakethePrediction.ipynb\" target=\"_parent\"><img src=\"https://colab.research.google.com/assets/colab-badge.svg\" alt=\"Open In Colab\"/></a>"
      ]
    },
    {
      "cell_type": "markdown",
      "metadata": {
        "id": "KaojjwDRJDwZ"
      },
      "source": [
        "### Import libraries\n"
      ]
    },
    {
      "cell_type": "code",
      "execution_count": null,
      "metadata": {
        "id": "Eka2gCcWJDwa"
      },
      "outputs": [],
      "source": [
        "import numpy as np\n",
        "import pandas as pd\n",
        "\n",
        "from matplotlib import pyplot as plt\n",
        "%matplotlib inline \n",
        "import seaborn as sns\n",
        "\n",
        "pd.set_option('display.max_columns', 100)\n",
        "pd.set_option('display.max_rows', 100)"
      ]
    },
    {
      "cell_type": "markdown",
      "metadata": {
        "id": "J-spFhLgJDwb"
      },
      "source": [
        "### Read in dataset"
      ]
    },
    {
      "cell_type": "code",
      "execution_count": null,
      "metadata": {
        "id": "EjL7prIGJDwb"
      },
      "outputs": [],
      "source": [
        "DF = pd.read_csv('data/clean_inputwithfeatures.csv')"
      ]
    },
    {
      "cell_type": "code",
      "execution_count": null,
      "metadata": {
        "id": "SgkQ6Q5GJDwb",
        "outputId": "1993c097-20c7-4873-b62a-f0592b0d8227"
      },
      "outputs": [
        {
          "data": {
            "text/plain": [
              "(2914, 309)"
            ]
          },
          "execution_count": 3,
          "metadata": {},
          "output_type": "execute_result"
        }
      ],
      "source": [
        "DF.shape"
      ]
    },
    {
      "cell_type": "code",
      "execution_count": null,
      "metadata": {
        "id": "zkzIOqMaJDwd"
      },
      "outputs": [],
      "source": [
        "df = DF[DF['Id'] >= 1461]"
      ]
    },
    {
      "cell_type": "code",
      "execution_count": null,
      "metadata": {
        "id": "Ln366MB6JDwd",
        "outputId": "6366f069-9a95-4900-d17d-f073d34870ae"
      },
      "outputs": [
        {
          "data": {
            "text/plain": [
              "1459"
            ]
          },
          "execution_count": 5,
          "metadata": {},
          "output_type": "execute_result"
        }
      ],
      "source": [
        "len(df)"
      ]
    },
    {
      "cell_type": "code",
      "execution_count": null,
      "metadata": {
        "id": "KGI0wh3KJDwd"
      },
      "outputs": [],
      "source": [
        "X = df.drop(['SalePrice','Id'], axis = 1)"
      ]
    },
    {
      "cell_type": "markdown",
      "metadata": {
        "id": "-JryzccAJDwe"
      },
      "source": [
        "### Import ML Models\n",
        "#### Linear Models: Lasso, Ridge\n",
        "#### Emsemble Models: Random Forrest, Gradient Boosting"
      ]
    },
    {
      "cell_type": "code",
      "execution_count": null,
      "metadata": {
        "id": "8v1ROW7VJDwe"
      },
      "outputs": [],
      "source": [
        "## Function for creating model pipelines\n",
        "from sklearn.pipeline import make_pipeline"
      ]
    },
    {
      "cell_type": "code",
      "execution_count": null,
      "metadata": {
        "id": "YuFugAKGJDwe"
      },
      "outputs": [],
      "source": [
        "# For standardization\n",
        "from sklearn.preprocessing import StandardScaler"
      ]
    },
    {
      "cell_type": "code",
      "execution_count": null,
      "metadata": {
        "id": "KPWIRpJlJDwf"
      },
      "outputs": [],
      "source": [
        "# Import Ridge Regression, and Lasso Regression\n",
        "from sklearn.linear_model import Ridge, Lasso\n",
        "\n",
        "# Import Random Forest and Gradient Boosted Trees\n",
        "from sklearn.ensemble import RandomForestRegressor, GradientBoostingRegressor"
      ]
    },
    {
      "cell_type": "markdown",
      "metadata": {
        "id": "aW4ckeFOJDwf"
      },
      "source": [
        "### Testing on validation (testing) dataset"
      ]
    },
    {
      "cell_type": "code",
      "execution_count": null,
      "metadata": {
        "id": "mfteZl6IJDwf"
      },
      "outputs": [],
      "source": [
        "import pickle"
      ]
    },
    {
      "cell_type": "code",
      "execution_count": null,
      "metadata": {
        "id": "JWJSgs84JDwf"
      },
      "outputs": [],
      "source": [
        "featureselection = pickle.load(open('featureselection.pkl', 'rb'))"
      ]
    },
    {
      "cell_type": "code",
      "execution_count": null,
      "metadata": {
        "id": "F8WbFSBvJDwf"
      },
      "outputs": [],
      "source": [
        "rf = pickle.load(open('rf.pkl', 'rb'))\n",
        "gb = pickle.load(open('gb.pkl', 'rb'))"
      ]
    },
    {
      "cell_type": "code",
      "execution_count": null,
      "metadata": {
        "id": "HshU0MMFJDwf",
        "outputId": "655911b9-8265-44ad-913c-11926181879a"
      },
      "outputs": [
        {
          "data": {
            "text/plain": [
              "(1459, 309)"
            ]
          },
          "execution_count": 16,
          "metadata": {},
          "output_type": "execute_result"
        }
      ],
      "source": [
        "df.shape"
      ]
    },
    {
      "cell_type": "code",
      "execution_count": null,
      "metadata": {
        "id": "VBWn5f0fJDwg"
      },
      "outputs": [],
      "source": [
        "# Create separate object for target variable\n",
        "y = df.SalePrice\n",
        "\n",
        "# Create separate object for input features\n",
        "X = df.drop(['SalePrice','Id'], axis=1)"
      ]
    },
    {
      "cell_type": "code",
      "execution_count": null,
      "metadata": {
        "id": "oZymX6jCJDwg"
      },
      "outputs": [],
      "source": [
        "X_new = featureselection.transform(X)"
      ]
    },
    {
      "cell_type": "code",
      "execution_count": null,
      "metadata": {
        "id": "DU7AtVF7JDwg",
        "outputId": "d75b7178-738d-47b6-f558-570d8d76575c"
      },
      "outputs": [
        {
          "name": "stderr",
          "output_type": "stream",
          "text": [
            "/opt/anaconda3/lib/python3.7/site-packages/ipykernel_launcher.py:1: SettingWithCopyWarning: \n",
            "A value is trying to be set on a copy of a slice from a DataFrame.\n",
            "Try using .loc[row_indexer,col_indexer] = value instead\n",
            "\n",
            "See the caveats in the documentation: http://pandas.pydata.org/pandas-docs/stable/user_guide/indexing.html#returning-a-view-versus-a-copy\n",
            "  \"\"\"Entry point for launching an IPython kernel.\n"
          ]
        }
      ],
      "source": [
        "df['SalePrice'] = rf.predict(X_new) * 0.5 + gb.predict(X_new) * 0.5"
      ]
    },
    {
      "cell_type": "code",
      "execution_count": null,
      "metadata": {
        "id": "QhRdZxZHJDwh",
        "outputId": "4067ae62-9b3a-4038-8436-11e4191734c4"
      },
      "outputs": [
        {
          "data": {
            "text/plain": [
              "1455    315133.021191\n",
              "1456    292337.606433\n",
              "1457    301481.344853\n",
              "1458    302241.736451\n",
              "1459    299708.475934\n",
              "Name: SalePrice, dtype: float64"
            ]
          },
          "execution_count": 20,
          "metadata": {},
          "output_type": "execute_result"
        }
      ],
      "source": [
        "df['SalePrice'].head()"
      ]
    },
    {
      "cell_type": "code",
      "execution_count": null,
      "metadata": {
        "id": "Oqh10ziHJDwh"
      },
      "outputs": [],
      "source": [
        "df[['Id','SalePrice']].to_csv('Submission.csv', index=False)"
      ]
    }
  ],
  "metadata": {
    "kernelspec": {
      "display_name": "Python 3",
      "language": "python",
      "name": "python3"
    },
    "language_info": {
      "codemirror_mode": {
        "name": "ipython",
        "version": 3
      },
      "file_extension": ".py",
      "mimetype": "text/x-python",
      "name": "python",
      "nbconvert_exporter": "python",
      "pygments_lexer": "ipython3",
      "version": "3.8.8"
    },
    "colab": {
      "provenance": [],
      "include_colab_link": true
    }
  },
  "nbformat": 4,
  "nbformat_minor": 0
}